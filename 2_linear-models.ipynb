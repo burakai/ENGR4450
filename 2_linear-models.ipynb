{
 "cells": [
  {
   "cell_type": "markdown",
   "metadata": {},
   "source": [
    "1. Linear Models Summary\n",
    "2. Linear Classifiers\n",
    "3. Linear Regressors\n",
    "4. SGDClassifier\n",
    "5. Perceptron\n"
   ]
  },
  {
   "cell_type": "code",
   "execution_count": null,
   "metadata": {},
   "outputs": [],
   "source": [
    "\n"
   ]
  },
  {
   "cell_type": "markdown",
   "metadata": {},
   "source": [
    "## Implementation Using `scikit-learn`\n",
    "\n",
    "### Linear classifiers\n",
    "\n",
    "<table class=\"autosummary longtable table autosummary\"><tbody><tr class=\"row-odd\"><td><p><a class=\"reference internal\" href=\"https://scikit-learn.org/stable/api/sklearn.linear_model.html#linear-classifiers../modules/generated/sklearn.linear_model.LogisticRegression.html#sklearn.linear_model.LogisticRegression\" title=\"sklearn.linear_model.LogisticRegression\"><code class=\"xref py py-obj docutils literal notranslate\"><span class=\"pre\">LogisticRegression</span></code></a></p></td><td><p>Logistic Regression (aka logit, MaxEnt) classifier.</p></td></tr><tr class=\"row-even\"><td><p><a class=\"reference internal\" href=\"https://scikit-learn.org/stable/api/sklearn.linear_model.html#linear-classifiers../modules/generated/sklearn.linear_model.LogisticRegressionCV.html#sklearn.linear_model.LogisticRegressionCV\" title=\"sklearn.linear_model.LogisticRegressionCV\"><code class=\"xref py py-obj docutils literal notranslate\"><span class=\"pre\">LogisticRegressionCV</span></code></a></p></td><td><p>Logistic Regression CV (aka logit, MaxEnt) classifier.</p></td></tr><tr class=\"row-odd\"><td><p><a class=\"reference internal\" href=\"https://scikit-learn.org/stable/api/sklearn.linear_model.html#linear-classifiers../modules/generated/sklearn.linear_model.PassiveAggressiveClassifier.html#sklearn.linear_model.PassiveAggressiveClassifier\" title=\"sklearn.linear_model.PassiveAggressiveClassifier\"><code class=\"xref py py-obj docutils literal notranslate\"><span class=\"pre\">PassiveAggressiveClassifier</span></code></a></p></td><td><p>Passive Aggressive Classifier.</p></td></tr><tr class=\"row-even\"><td><p><a class=\"reference internal\" href=\"https://scikit-learn.org/stable/api/sklearn.linear_model.html#linear-classifiers../modules/generated/sklearn.linear_model.Perceptron.html#sklearn.linear_model.Perceptron\" title=\"sklearn.linear_model.Perceptron\"><code class=\"xref py py-obj docutils literal notranslate\"><span class=\"pre\">Perceptron</span></code></a></p></td><td><p>Linear perceptron classifier.</p></td></tr><tr class=\"row-odd\"><td><p><a class=\"reference internal\" href=\"https://scikit-learn.org/stable/api/sklearn.linear_model.html#linear-classifiers../modules/generated/sklearn.linear_model.RidgeClassifier.html#sklearn.linear_model.RidgeClassifier\" title=\"sklearn.linear_model.RidgeClassifier\"><code class=\"xref py py-obj docutils literal notranslate\"><span class=\"pre\">RidgeClassifier</span></code></a></p></td><td><p>Classifier using Ridge regression.</p></td></tr><tr class=\"row-even\"><td><p><a class=\"reference internal\" href=\"https://scikit-learn.org/stable/api/sklearn.linear_model.html#linear-classifiers../modules/generated/sklearn.linear_model.RidgeClassifierCV.html#sklearn.linear_model.RidgeClassifierCV\" title=\"sklearn.linear_model.RidgeClassifierCV\"><code class=\"xref py py-obj docutils literal notranslate\"><span class=\"pre\">RidgeClassifierCV</span></code></a></p></td><td><p>Ridge classifier with built-in cross-validation.</p></td></tr><tr class=\"row-odd\"><td><p><a class=\"reference internal\" href=\"https://scikit-learn.org/stable/api/sklearn.linear_model.html#linear-classifiers../modules/generated/sklearn.linear_model.SGDClassifier.html#sklearn.linear_model.SGDClassifier\" title=\"sklearn.linear_model.SGDClassifier\"><code class=\"xref py py-obj docutils literal notranslate\"><span class=\"pre\">SGDClassifier</span></code></a></p></td><td><p>Linear classifiers (SVM, logistic regression, etc.) with SGD training.</p></td></tr><tr class=\"row-even\"><td><p><a class=\"reference internal\" href=\"https://scikit-learn.org/stable/api/sklearn.linear_model.html#linear-classifiers../modules/generated/sklearn.linear_model.SGDOneClassSVM.html#sklearn.linear_model.SGDOneClassSVM\" title=\"sklearn.linear_model.SGDOneClassSVM\"><code class=\"xref py py-obj docutils literal notranslate\"><span class=\"pre\">SGDOneClassSVM</span></code></a></p></td><td><p>Solves linear One-Class SVM using Stochastic Gradient Descent.</p></td></tr></tbody></table>\n",
    "\n",
    "### Classical linear regressors\n",
    "\n",
    "<table class=\"autosummary longtable table autosummary\"><tbody><tr class=\"row-odd\"><td><p><a class=\"reference internal\" href=\"https://scikit-learn.org/stable/api/sklearn.linear_model.html#linear-classifiers../modules/generated/sklearn.linear_model.LinearRegression.html#sklearn.linear_model.LinearRegression\" title=\"sklearn.linear_model.LinearRegression\"><code class=\"xref py py-obj docutils literal notranslate\"><span class=\"pre\">LinearRegression</span></code></a></p></td><td><p>Ordinary least squares Linear Regression.</p></td></tr><tr class=\"row-even\"><td><p><a class=\"reference internal\" href=\"https://scikit-learn.org/stable/api/sklearn.linear_model.html#linear-classifiers../modules/generated/sklearn.linear_model.Ridge.html#sklearn.linear_model.Ridge\" title=\"sklearn.linear_model.Ridge\"><code class=\"xref py py-obj docutils literal notranslate\"><span class=\"pre\">Ridge</span></code></a></p></td><td><p>Linear least squares with l2 regularization.</p></td></tr><tr class=\"row-odd\"><td><p><a class=\"reference internal\" href=\"https://scikit-learn.org/stable/api/sklearn.linear_model.html#linear-classifiers../modules/generated/sklearn.linear_model.RidgeCV.html#sklearn.linear_model.RidgeCV\" title=\"sklearn.linear_model.RidgeCV\"><code class=\"xref py py-obj docutils literal notranslate\"><span class=\"pre\">RidgeCV</span></code></a></p></td><td><p>Ridge regression with built-in cross-validation.</p></td></tr><tr class=\"row-even\"><td><p><a class=\"reference internal\" href=\"https://scikit-learn.org/stable/api/sklearn.linear_model.html#linear-classifiers../modules/generated/sklearn.linear_model.SGDRegressor.html#sklearn.linear_model.SGDRegressor\" title=\"sklearn.linear_model.SGDRegressor\"><code class=\"xref py py-obj docutils literal notranslate\"><span class=\"pre\">SGDRegressor</span></code></a></p></td><td><p>Linear model fitted by minimizing a regularized empirical loss with SGD.</p></td></tr></tbody></table>"
   ]
  }
 ],
 "metadata": {
  "language_info": {
   "name": "python"
  }
 },
 "nbformat": 4,
 "nbformat_minor": 2
}
