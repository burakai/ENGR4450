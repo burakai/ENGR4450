{
 "cells": [
  {
   "cell_type": "markdown",
   "metadata": {},
   "source": [
    "# Howework 2\n",
    "\n",
    "- Welcome to your second homework assignment! In this task, you will apply Support Vector Machines (SVM) along with any other model of your choice.\n",
    "\n",
    "- You will compare the performance of these models, utilizing some of the techniques you've learned so far.\n",
    "\n",
    "- For this homework, you will be using the 'Steel Plate Faults' dataset, and your goal will be to determine the faults and classify them by their type."
   ]
  },
  {
   "cell_type": "markdown",
   "metadata": {},
   "source": [
    "## Steel Plates Faults Dataset\n",
    "\n",
    "- **Total Fields**: 34\n",
    "- **Input Features**: 27 Fields (unknown specifics)\n",
    "- **Class Labels**: 7 Fields (one-hot encoded)\n",
    "\n",
    "### Features and Labels\n",
    "\n",
    "#### Input Features (First 27 Fields)\n",
    "- These fields describe various characteristics or indicators related to the geometric shape and outline of defects seen in images of stainless steel plates.\n",
    "- The specific nature of these indicators is not disclosed in the provided information, implying that these features are likely derived from image processing techniques. They may encompass metrics related to contour, area, shape, or texture.\n",
    "\n",
    "#### Class Labels (Last 7 Fields)\n",
    "- The last seven columns of the dataset represent the one-hot encoded classes of the defects.\n",
    "- Specifically, the classes are Pastry, Z_Scratch, K_Scatch, Stains, Dirtiness, Bumps, and Other_Faults.\n",
    "- In one-hot encoding:\n",
    "  - Each class is represented by a binary vector where only one element is '1' (True) indicating the presence of that class, and the others are '0' (False).\n",
    "  - For example, if a steel plate has a \"Stains\" defect, the corresponding class column for \"Stains\" will have a 1, while all other class columns will have 0s.\n",
    "\n",
    "### Considerations for Machine Learning\n",
    "\n",
    "- **Preprocessing**: Understanding the nature of the first 27 fields is crucial. Feature scaling or normalization may be necessary depending on the distribution of these features.\n",
    "  \n",
    "- **Model Selection**: Different classification algorithms can be experimented with, such as:\n",
    "  - Logistic Regression\n",
    "  - Decision Trees\n",
    "  - Random Forests\n",
    "  - Support Vector Machines\n",
    "  - Neural Networks\n",
    "  \n",
    "- **Evaluation**: Metrics such as accuracy, precision, recall, F1-score, and confusion matrices can be useful for assessing model performance, especially given the potential class imbalance if any classes have fewer instances than others.\n",
    "  \n",
    "- **Cross-validation**: Implementing techniques like k-fold cross-validation can help ensure that the model generalizes well across unseen data.\n",
    "\n",
    "This dataset provides a unique opportunity to explore the intersection of image processing and machine learning for defect classification. Although the lack of detailed information about the 27 input features presents a challenge, the dataset can be effectively utilized to implement and test various machine learning strategies for classification tasks.\n",
    "\n",
    "\n",
    "### Acknowledgements\n",
    "\n",
    "- Buscema, M., Terzi, S., & Tastle, W. (2010). Steel Plates Faults [Dataset]. UCI Machine Learning Repository. [https://doi.org/10.24432/C5J88N](https://doi.org/10.24432/C5J88N).\n",
    "\n",
    "- Lichman, M. (2013). UCI Machine Learning Repository. Retrieved from [http://archive.ics.uci.edu/ml](http://archive.ics.uci.edu/ml). Irvine, CA: University of California, School of Information and Computer Science.\n",
    "\n",
    "- The CSV version of the data has been sourced from the Kaggle profile of the UCI Machine Learning Repository, with contributions from collaborator Chris Crawford."
   ]
  },
  {
   "cell_type": "markdown",
   "metadata": {},
   "source": [
    "## Important Notice for Students\n",
    "\n",
    "As you work on this homework assignment, it is imperative to complete your tasks independently and engage with the material actively. While tools like AI can provide assistance and guidance, relying too heavily on AI-generated content or directly copying code and solutions from the internet poses several risks:\n",
    "\n",
    "1. **Academic Integrity**: Submitting work that is not your own can lead to serious consequences, including loss of credit or disciplinary action, if detected. Our department utilizes plagiarism detection tools that can identify content that is not original.\n",
    "\n",
    "2. **Learning and Understanding**: This homework is designed to deepen your understanding of the subject matter. Engaging with the material personally fosters critical thinking and problem-solving skills that are essential for your academic and professional success.\n",
    "\n",
    "3. **Mastery of Skills**: Completing assignments on your own allows you to practice and master the skills being taught. This understanding will benefit you far more than merely replicating answers or code generated by AI or found online.\n",
    "\n",
    "Therefore, we strongly encourage you to approach this assignment with integrity, using resources to enhance your learning while ensuring that all work submitted reflects your own understanding and capabilities. Your educational journey is ultimately about growth and mastery—embrace it!"
   ]
  },
  {
   "cell_type": "markdown",
   "metadata": {},
   "source": [
    "### Submitting Your Homework\n",
    "\n",
    "_Please write your solutions **only** in this notebook, focusing on the related fields, without deleting any previously written content. **DO NOT** use any other formats such as \".pdf\", \".docx\" etc._\n",
    "\n",
    "Do your coding in the related areas and provide comments **in Markdown**. If you're unfamiliar with Markdown, don’t worry—it's very easy! You can learn more about it [here](https://www.markdownguide.org/basic-syntax/).\n",
    "\n",
    "Once you have completed your work, kindly **rename the file with your school number** (*i.e.* `10MECT1234.ipynb`) and upload it accordingly.\n",
    "\n",
    "**Good luck**, and enjoy the process of exploring and applying your learning!"
   ]
  },
  {
   "cell_type": "markdown",
   "metadata": {},
   "source": [
    "## Steel Plates Faults Detection\n",
    "\n",
    "***Visualization is crucial for making meaningful comparisons; rather than relying solely on numerical values.***\n",
    "\n",
    "***It's essential to interpret and report insights directly from the graphs to grasp the true performance of your models.***\n",
    "\n",
    "### 0. Data Preparation\n",
    "- Import the dataset into your working environment, usually with a library such as pandas.\n",
    "\n",
    "You can find the dataset in the data folder under the name 'steel-plates-faults.csv'.\n",
    "> ```python\n",
    "> data = pd.read_csv('data/steel-plates-faults.csv')\n",
    "> ```\n",
    " - Handle any missing values through appropriate imputation techniques or removal.\n",
    "- Verify that data types are accurate, with a specific focus on dates and categorical variables.\n",
    "- Normalize or standardize features as needed, particularly for Support Vector Classification (SVC).\n",
    "- Implement any additional methods you've learned so far, if necessary."
   ]
  },
  {
   "cell_type": "code",
   "execution_count": null,
   "metadata": {},
   "outputs": [],
   "source": []
  },
  {
   "cell_type": "markdown",
   "metadata": {},
   "source": [
    "### 1. Support Vector Machines\n",
    "#### 1.1. Train/Test Split \n",
    "- Perform a train/test split (e.g., 70/30 or 80/20)\n",
    "#### 1.2. Select Support Vector Classification (SVC) Model\n",
    "- Justify the choice of SVC for the task at hand.\n",
    "#### 1.3. Explore Different SVC Kernels\n",
    "- Train SVC models using different kernels (linear, polynomial, Gaussian RBF).\n",
    "#### 1.4. Evaluation Metrics\n",
    "- Define and explain chosen metrics (accuracy, precision, recall, F1 score, ROC-AUC).\n",
    "#### 1.5. Performance Analysis\n",
    "- Evaluate the performance of both the SVC and the additional model using the test data.\n",
    "- Utilize confusion matrices to visualize the classification performance.\n",
    "#### 1.6. Compare Models\n",
    "- Compare and contrast the performance of the SVC models and the additional model based on metrics."
   ]
  },
  {
   "cell_type": "code",
   "execution_count": null,
   "metadata": {},
   "outputs": [],
   "source": []
  },
  {
   "cell_type": "markdown",
   "metadata": {},
   "source": [
    "### 2. Additional Classification Model\n",
    "#### 2.1. Cross-Validation Setup\n",
    "- Explain the concept of cross-validation and its significance in assessing model performance.\n",
    "- Choose a cross-validation technique (e.g., k-fold) and provide a justification for selecting a specific number of folds (e.g., 5-fold or 10-fold) for obtaining reliable performance metrics.\n",
    "#### 2.2. Selecting and Justifying a Different Classification Model\n",
    "- Select and justify a different classification model (e.g., Decision Trees, Random Forest, or Gradient Boosting) based on the characteristics of the dataset and the problem domain.\n",
    "#### 2.3. Hyperparameter Tuning for the Selected Model\n",
    "- Identify key hyperparameters that could improve the model’s performance and explain their importance.\n",
    "#### 2.4. Evaluation Metrics\n",
    "- Define and explain the evaluation metrics you will use (accuracy, precision, recall, F1 score, ROC-AUC).\n",
    "#### 2.5. Performance Analysis of the Selected Model\n",
    "- Evaluate the performance of the selected classification model using the test data.\n",
    "- Generate confusion matrices to visualize the classification outcomes, breaking down the true positives, true negatives, false positives, and false negatives.\n",
    "#### 2.6. Compare Models\n",
    "- Present the evaluation metrics for both models in a side-by-side table or with visualizations, facilitating a direct comparison."
   ]
  },
  {
   "cell_type": "code",
   "execution_count": null,
   "metadata": {},
   "outputs": [],
   "source": []
  },
  {
   "cell_type": "markdown",
   "metadata": {},
   "source": [
    "## 3. Conclusion\n",
    "\n",
    "- Conduct a comprehensive comparison of the performance between the chosen model and Support Vector Machines (SVC).\n",
    "- Discuss the strengths and weaknesses of each model based on performance metrics, indicating scenarios where one model may outperform the other.\n",
    "- Summarize the findings from the performance analysis and the comparative evaluation of the models.\n",
    "- Provide insights into practical considerations when selecting a classification model for similar classification tasks."
   ]
  },
  {
   "cell_type": "code",
   "execution_count": null,
   "metadata": {},
   "outputs": [],
   "source": []
  }
 ],
 "metadata": {
  "language_info": {
   "name": "python"
  }
 },
 "nbformat": 4,
 "nbformat_minor": 2
}
